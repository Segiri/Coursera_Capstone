{
 "cells": [
  {
   "cell_type": "code",
   "execution_count": 1,
   "metadata": {},
   "outputs": [
    {
     "name": "stdout",
     "output_type": "stream",
     "text": [
      "Solving environment: done\n",
      "\n",
      "## Package Plan ##\n",
      "\n",
      "  environment location: /opt/conda/envs/Python36\n",
      "\n",
      "  added / updated specs: \n",
      "    - geopy\n",
      "\n",
      "\n",
      "The following packages will be downloaded:\n",
      "\n",
      "    package                    |            build\n",
      "    ---------------------------|-----------------\n",
      "    python_abi-3.6             |          1_cp36m           4 KB  conda-forge\n",
      "    geographiclib-1.50         |             py_0          34 KB  conda-forge\n",
      "    ca-certificates-2020.4.5.1 |       hecc5488_0         146 KB  conda-forge\n",
      "    openssl-1.1.1g             |       h516909a_0         2.1 MB  conda-forge\n",
      "    geopy-1.22.0               |     pyh9f0ad1d_0          63 KB  conda-forge\n",
      "    certifi-2020.4.5.1         |   py36h9f0ad1d_0         151 KB  conda-forge\n",
      "    ------------------------------------------------------------\n",
      "                                           Total:         2.5 MB\n",
      "\n",
      "The following NEW packages will be INSTALLED:\n",
      "\n",
      "    geographiclib:   1.50-py_0           conda-forge\n",
      "    geopy:           1.22.0-pyh9f0ad1d_0 conda-forge\n",
      "    python_abi:      3.6-1_cp36m         conda-forge\n",
      "\n",
      "The following packages will be UPDATED:\n",
      "\n",
      "    ca-certificates: 2020.1.1-0                      --> 2020.4.5.1-hecc5488_0     conda-forge\n",
      "    certifi:         2020.4.5.1-py36_0               --> 2020.4.5.1-py36h9f0ad1d_0 conda-forge\n",
      "    openssl:         1.1.1g-h7b6447c_0               --> 1.1.1g-h516909a_0         conda-forge\n",
      "\n",
      "\n",
      "Downloading and Extracting Packages\n",
      "python_abi-3.6       | 4 KB      | ##################################### | 100% \n",
      "geographiclib-1.50   | 34 KB     | ##################################### | 100% \n",
      "ca-certificates-2020 | 146 KB    | ##################################### | 100% \n",
      "openssl-1.1.1g       | 2.1 MB    | ##################################### | 100% \n",
      "geopy-1.22.0         | 63 KB     | ##################################### | 100% \n",
      "certifi-2020.4.5.1   | 151 KB    | ##################################### | 100% \n",
      "Preparing transaction: done\n",
      "Verifying transaction: done\n",
      "Executing transaction: done\n",
      "Solving environment: done\n",
      "\n",
      "## Package Plan ##\n",
      "\n",
      "  environment location: /opt/conda/envs/Python36\n",
      "\n",
      "  added / updated specs: \n",
      "    - folium=0.5.0\n",
      "\n",
      "\n",
      "The following packages will be downloaded:\n",
      "\n",
      "    package                    |            build\n",
      "    ---------------------------|-----------------\n",
      "    vincent-0.4.4              |             py_1          28 KB  conda-forge\n",
      "    folium-0.5.0               |             py_0          45 KB  conda-forge\n",
      "    altair-4.1.0               |             py_1         614 KB  conda-forge\n",
      "    branca-0.4.1               |             py_0          26 KB  conda-forge\n",
      "    ------------------------------------------------------------\n",
      "                                           Total:         713 KB\n",
      "\n",
      "The following NEW packages will be INSTALLED:\n",
      "\n",
      "    altair:  4.1.0-py_1 conda-forge\n",
      "    branca:  0.4.1-py_0 conda-forge\n",
      "    folium:  0.5.0-py_0 conda-forge\n",
      "    vincent: 0.4.4-py_1 conda-forge\n",
      "\n",
      "\n",
      "Downloading and Extracting Packages\n",
      "vincent-0.4.4        | 28 KB     | ##################################### | 100% \n",
      "folium-0.5.0         | 45 KB     | ##################################### | 100% \n",
      "altair-4.1.0         | 614 KB    | ##################################### | 100% \n",
      "branca-0.4.1         | 26 KB     | ##################################### | 100% \n",
      "Preparing transaction: done\n",
      "Verifying transaction: done\n",
      "Executing transaction: done\n",
      "Libraries imported.\n"
     ]
    }
   ],
   "source": [
    "import numpy as np # library to handle data in a vectorized manner\n",
    "\n",
    "import pandas as pd # library for data analsysis\n",
    "pd.set_option('display.max_columns', None)\n",
    "pd.set_option('display.max_rows', None)\n",
    "\n",
    "import json # library to handle JSON files\n",
    "\n",
    "!conda install -c conda-forge geopy --yes \n",
    "# uncomment this line if you haven't completed the Foursquare API lab\n",
    "from geopy.geocoders import Nominatim \n",
    "# convert an address into latitude and longitude values\n",
    "\n",
    "import requests\n",
    "# library to handle requests\n",
    "from pandas.io.json import json_normalize \n",
    "# tranform JSON file into a pandas dataframe\n",
    "\n",
    "# Matplotlib and associated plotting modules\n",
    "import matplotlib.cm as cm\n",
    "import matplotlib.colors as colors\n",
    "\n",
    "# import k-means from clustering stage\n",
    "from sklearn.cluster import KMeans\n",
    "\n",
    "!conda install -c conda-forge folium=0.5.0 --yes \n",
    "# uncomment this line if you haven't completed the Foursquare API lab\n",
    "import folium \n",
    "# map rendering library\n",
    "\n",
    "print('Libraries imported.')"
   ]
  },
  {
   "cell_type": "code",
   "execution_count": 2,
   "metadata": {},
   "outputs": [],
   "source": [
    "Neighbourhoods = pd.read_html('https://en.wikipedia.org/wiki/List_of_postal_codes_of_Canada:_M',skiprows=0)[0]"
   ]
  },
  {
   "cell_type": "code",
   "execution_count": 3,
   "metadata": {},
   "outputs": [
    {
     "data": {
      "text/html": [
       "<div>\n",
       "<style scoped>\n",
       "    .dataframe tbody tr th:only-of-type {\n",
       "        vertical-align: middle;\n",
       "    }\n",
       "\n",
       "    .dataframe tbody tr th {\n",
       "        vertical-align: top;\n",
       "    }\n",
       "\n",
       "    .dataframe thead th {\n",
       "        text-align: right;\n",
       "    }\n",
       "</style>\n",
       "<table border=\"1\" class=\"dataframe\">\n",
       "  <thead>\n",
       "    <tr style=\"text-align: right;\">\n",
       "      <th></th>\n",
       "      <th>Postal Code</th>\n",
       "      <th>Borough</th>\n",
       "      <th>Neighborhood</th>\n",
       "    </tr>\n",
       "  </thead>\n",
       "  <tbody>\n",
       "    <tr>\n",
       "      <th>0</th>\n",
       "      <td>M1A</td>\n",
       "      <td>Not assigned</td>\n",
       "      <td>NaN</td>\n",
       "    </tr>\n",
       "    <tr>\n",
       "      <th>1</th>\n",
       "      <td>M2A</td>\n",
       "      <td>Not assigned</td>\n",
       "      <td>NaN</td>\n",
       "    </tr>\n",
       "  </tbody>\n",
       "</table>\n",
       "</div>"
      ],
      "text/plain": [
       "  Postal Code       Borough Neighborhood\n",
       "0         M1A  Not assigned          NaN\n",
       "1         M2A  Not assigned          NaN"
      ]
     },
     "execution_count": 3,
     "metadata": {},
     "output_type": "execute_result"
    }
   ],
   "source": [
    "Neighbourhoods.head(2)"
   ]
  },
  {
   "cell_type": "code",
   "execution_count": 4,
   "metadata": {},
   "outputs": [],
   "source": [
    "#drop the cells having borough as not assigned.\n",
    "drop_index = Neighbourhoods[Neighbourhoods['Borough'] == 'Not assigned'].index \n",
    "\n",
    "# get the indices of rows containing Borough as \"Not Assigned\"\n",
    "neighborhoods = Neighbourhoods.drop(drop_index, axis=0)                           \n",
    "\n",
    "# dropping the indexes with \"Not Assigned\" Borough\n",
    "neighborhoods.reset_index(drop=True, inplace=True)                                   \n",
    "\n",
    "# resets the index after dropping the rows"
   ]
  },
  {
   "cell_type": "code",
   "execution_count": 5,
   "metadata": {},
   "outputs": [
    {
     "data": {
      "text/html": [
       "<div>\n",
       "<style scoped>\n",
       "    .dataframe tbody tr th:only-of-type {\n",
       "        vertical-align: middle;\n",
       "    }\n",
       "\n",
       "    .dataframe tbody tr th {\n",
       "        vertical-align: top;\n",
       "    }\n",
       "\n",
       "    .dataframe thead th {\n",
       "        text-align: right;\n",
       "    }\n",
       "</style>\n",
       "<table border=\"1\" class=\"dataframe\">\n",
       "  <thead>\n",
       "    <tr style=\"text-align: right;\">\n",
       "      <th></th>\n",
       "      <th>Postal Code</th>\n",
       "      <th>Borough</th>\n",
       "      <th>Neighborhood</th>\n",
       "    </tr>\n",
       "  </thead>\n",
       "  <tbody>\n",
       "    <tr>\n",
       "      <th>0</th>\n",
       "      <td>M3A</td>\n",
       "      <td>North York</td>\n",
       "      <td>Parkwoods</td>\n",
       "    </tr>\n",
       "    <tr>\n",
       "      <th>1</th>\n",
       "      <td>M4A</td>\n",
       "      <td>North York</td>\n",
       "      <td>Victoria Village</td>\n",
       "    </tr>\n",
       "    <tr>\n",
       "      <th>2</th>\n",
       "      <td>M5A</td>\n",
       "      <td>Downtown Toronto</td>\n",
       "      <td>Regent Park, Harbourfront</td>\n",
       "    </tr>\n",
       "  </tbody>\n",
       "</table>\n",
       "</div>"
      ],
      "text/plain": [
       "  Postal Code           Borough               Neighborhood\n",
       "0         M3A        North York                  Parkwoods\n",
       "1         M4A        North York           Victoria Village\n",
       "2         M5A  Downtown Toronto  Regent Park, Harbourfront"
      ]
     },
     "execution_count": 5,
     "metadata": {},
     "output_type": "execute_result"
    }
   ],
   "source": [
    "neighborhoods.head(3)"
   ]
  },
  {
   "cell_type": "code",
   "execution_count": 6,
   "metadata": {},
   "outputs": [
    {
     "data": {
      "text/plain": [
       "(103, 3)"
      ]
     },
     "execution_count": 6,
     "metadata": {},
     "output_type": "execute_result"
    }
   ],
   "source": [
    "# Check the Shape of the new Dataframe\n",
    "neighborhoods.shape"
   ]
  },
  {
   "cell_type": "code",
   "execution_count": 8,
   "metadata": {},
   "outputs": [
    {
     "name": "stdout",
     "output_type": "stream",
     "text": [
      "Collecting geocoder\n",
      "\u001b[?25l  Downloading https://files.pythonhosted.org/packages/4f/6b/13166c909ad2f2d76b929a4227c952630ebaf0d729f6317eb09cbceccbab/geocoder-1.38.1-py2.py3-none-any.whl (98kB)\n",
      "\u001b[K     |████████████████████████████████| 102kB 10.4MB/s ta 0:00:01\n",
      "\u001b[?25hRequirement already satisfied: click in /opt/conda/envs/Python36/lib/python3.6/site-packages (from geocoder) (7.0)\n",
      "Collecting ratelim (from geocoder)\n",
      "  Downloading https://files.pythonhosted.org/packages/f2/98/7e6d147fd16a10a5f821db6e25f192265d6ecca3d82957a4fdd592cad49c/ratelim-0.1.6-py2.py3-none-any.whl\n",
      "Requirement already satisfied: future in /opt/conda/envs/Python36/lib/python3.6/site-packages (from geocoder) (0.17.1)\n",
      "Requirement already satisfied: six in /opt/conda/envs/Python36/lib/python3.6/site-packages (from geocoder) (1.12.0)\n",
      "Requirement already satisfied: requests in /opt/conda/envs/Python36/lib/python3.6/site-packages (from geocoder) (2.21.0)\n",
      "Requirement already satisfied: decorator in /opt/conda/envs/Python36/lib/python3.6/site-packages (from ratelim->geocoder) (4.3.2)\n",
      "Requirement already satisfied: idna<2.9,>=2.5 in /opt/conda/envs/Python36/lib/python3.6/site-packages (from requests->geocoder) (2.8)\n",
      "Requirement already satisfied: chardet<3.1.0,>=3.0.2 in /opt/conda/envs/Python36/lib/python3.6/site-packages (from requests->geocoder) (3.0.4)\n",
      "Requirement already satisfied: certifi>=2017.4.17 in /opt/conda/envs/Python36/lib/python3.6/site-packages (from requests->geocoder) (2020.4.5.1)\n",
      "Requirement already satisfied: urllib3<1.25,>=1.21.1 in /opt/conda/envs/Python36/lib/python3.6/site-packages (from requests->geocoder) (1.24.1)\n",
      "Installing collected packages: ratelim, geocoder\n",
      "Successfully installed geocoder-1.38.1 ratelim-0.1.6\n"
     ]
    }
   ],
   "source": [
    "# Install geocoder\n",
    "!pip install geocoder\n",
    "import geocoder \n",
    "# to get longitude and latitude of address"
   ]
  },
  {
   "cell_type": "code",
   "execution_count": 9,
   "metadata": {},
   "outputs": [],
   "source": [
    "#initilization of latitude and longitude variables\n",
    "lat = []\n",
    "lng = []\n",
    "lat_lng_coords = None\n",
    "\n",
    "# Get postcodes from neighborhoods table\n",
    "postal_code = neighborhoods['Postal Code']\n",
    "\n",
    "# Store latitude and longitude values in lat and lng\n",
    "for pc in postal_code:\n",
    "    g = geocoder.arcgis('{}, Toronto, Ontario'.format(pc))\n",
    "    lat_lng_coords = g.latlng\n",
    "    lat.append(lat_lng_coords[0])\n",
    "    lng.append(lat_lng_coords[1])"
   ]
  },
  {
   "cell_type": "code",
   "execution_count": 11,
   "metadata": {},
   "outputs": [
    {
     "data": {
      "text/html": [
       "<div>\n",
       "<style scoped>\n",
       "    .dataframe tbody tr th:only-of-type {\n",
       "        vertical-align: middle;\n",
       "    }\n",
       "\n",
       "    .dataframe tbody tr th {\n",
       "        vertical-align: top;\n",
       "    }\n",
       "\n",
       "    .dataframe thead th {\n",
       "        text-align: right;\n",
       "    }\n",
       "</style>\n",
       "<table border=\"1\" class=\"dataframe\">\n",
       "  <thead>\n",
       "    <tr style=\"text-align: right;\">\n",
       "      <th></th>\n",
       "      <th>Postal Code</th>\n",
       "      <th>Borough</th>\n",
       "      <th>Neighborhood</th>\n",
       "      <th>Latitude</th>\n",
       "      <th>Longitude</th>\n",
       "    </tr>\n",
       "  </thead>\n",
       "  <tbody>\n",
       "    <tr>\n",
       "      <th>0</th>\n",
       "      <td>M3A</td>\n",
       "      <td>North York</td>\n",
       "      <td>Parkwoods</td>\n",
       "      <td>43.752935</td>\n",
       "      <td>-79.335641</td>\n",
       "    </tr>\n",
       "    <tr>\n",
       "      <th>1</th>\n",
       "      <td>M4A</td>\n",
       "      <td>North York</td>\n",
       "      <td>Victoria Village</td>\n",
       "      <td>43.728102</td>\n",
       "      <td>-79.311890</td>\n",
       "    </tr>\n",
       "    <tr>\n",
       "      <th>2</th>\n",
       "      <td>M5A</td>\n",
       "      <td>Downtown Toronto</td>\n",
       "      <td>Regent Park, Harbourfront</td>\n",
       "      <td>43.650964</td>\n",
       "      <td>-79.353041</td>\n",
       "    </tr>\n",
       "  </tbody>\n",
       "</table>\n",
       "</div>"
      ],
      "text/plain": [
       "  Postal Code           Borough               Neighborhood   Latitude  \\\n",
       "0         M3A        North York                  Parkwoods  43.752935   \n",
       "1         M4A        North York           Victoria Village  43.728102   \n",
       "2         M5A  Downtown Toronto  Regent Park, Harbourfront  43.650964   \n",
       "\n",
       "   Longitude  \n",
       "0 -79.335641  \n",
       "1 -79.311890  \n",
       "2 -79.353041  "
      ]
     },
     "execution_count": 11,
     "metadata": {},
     "output_type": "execute_result"
    }
   ],
   "source": [
    "toronto_neighborhoods = neighborhoods\n",
    "toronto_neighborhoods['Latitude'] = lat\n",
    "toronto_neighborhoods['Longitude'] = lng\n",
    "toronto_neighborhoods.head(3)"
   ]
  },
  {
   "cell_type": "code",
   "execution_count": 12,
   "metadata": {},
   "outputs": [
    {
     "data": {
      "text/plain": [
       "(39, 5)"
      ]
     },
     "execution_count": 12,
     "metadata": {},
     "output_type": "execute_result"
    }
   ],
   "source": [
    "toronto = toronto_neighborhoods[toronto_neighborhoods['Borough'].str.find('Toronto') != -1].reset_index(drop=True)\n",
    "toronto.shape"
   ]
  },
  {
   "cell_type": "code",
   "execution_count": 13,
   "metadata": {},
   "outputs": [
    {
     "data": {
      "text/html": [
       "<div style=\"width:100%;\"><div style=\"position:relative;width:100%;height:0;padding-bottom:60%;\"><span style=\"color:#565656\">Make this Notebook Trusted to load map: File -> Trust Notebook</span><iframe src=\"about:blank\" style=\"position:absolute;width:100%;height:100%;left:0;top:0;border:none !important;\" data-html=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 onload=\"this.contentDocument.open();this.contentDocument.write(atob(this.getAttribute('data-html')));this.contentDocument.close();\" allowfullscreen webkitallowfullscreen mozallowfullscreen></iframe></div></div>"
      ],
      "text/plain": [
       "<folium.folium.Map at 0x7f95df5c2e48>"
      ]
     },
     "execution_count": 13,
     "metadata": {},
     "output_type": "execute_result"
    }
   ],
   "source": [
    "#Get the latitude and longitude of Toronto\n",
    "g = geocoder.arcgis('Toronto, Ontario')\n",
    "lat_tor = g.latlng[0]\n",
    "lng_tor = g.latlng[1]\n",
    "\n",
    "# Create a map of Toronto\n",
    "map_toronto = folium.Map(location=[lat_tor, lng_tor], zoom_start=11)\n",
    "\n",
    "# Add markers to map\n",
    "for lat, lng, bor, postcode in zip(toronto['Latitude'], toronto['Longitude'], toronto['Borough'], toronto['Postal Code']):\n",
    "    label = '{}, {}'.format(postcode, bor)        # popup labels with postcode and borough\n",
    "    label = folium.Popup(label, parse_html=True)\n",
    "    folium.CircleMarker([lat, lng],\n",
    "                        radius=5,\n",
    "                        popup=label,\n",
    "                        color='blue',\n",
    "                        fill=True,\n",
    "                        fill_color='#3186cc',\n",
    "                        fill_opacity=0.7,\n",
    "                        parse_html=False).add_to(map_toronto)  \n",
    "    \n",
    "map_toronto"
   ]
  },
  {
   "cell_type": "code",
   "execution_count": null,
   "metadata": {},
   "outputs": [],
   "source": []
  }
 ],
 "metadata": {
  "kernelspec": {
   "display_name": "Python 3.6",
   "language": "python",
   "name": "python3"
  },
  "language_info": {
   "codemirror_mode": {
    "name": "ipython",
    "version": 3
   },
   "file_extension": ".py",
   "mimetype": "text/x-python",
   "name": "python",
   "nbconvert_exporter": "python",
   "pygments_lexer": "ipython3",
   "version": "3.6.9"
  }
 },
 "nbformat": 4,
 "nbformat_minor": 1
}
